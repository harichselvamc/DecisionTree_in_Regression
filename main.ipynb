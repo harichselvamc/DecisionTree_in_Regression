{
 "cells": [
  {
   "cell_type": "code",
   "execution_count": 14,
   "metadata": {
    "vscode": {
     "languageId": "r"
    }
   },
   "outputs": [],
   "source": [
    "#install.packages(\"ISLR\")\n",
    "\n",
    "library(\"ISLR\")"
   ]
  },
  {
   "cell_type": "code",
   "execution_count": 15,
   "metadata": {
    "vscode": {
     "languageId": "r"
    }
   },
   "outputs": [],
   "source": [
    "#install.packages(\"MASS\")\n",
    "\n",
    "library(\"MASS\")"
   ]
  },
  {
   "cell_type": "code",
   "execution_count": 16,
   "metadata": {
    "vscode": {
     "languageId": "r"
    }
   },
   "outputs": [
    {
     "name": "stdout",
     "output_type": "stream",
     "text": [
      "Data sets in package 'datasets':\n",
      "\n",
      "AirPassengers           Monthly Airline Passenger Numbers 1949-1960\n",
      "BJsales                 Sales Data with Leading Indicator\n",
      "BJsales.lead (BJsales)\n",
      "                        Sales Data with Leading Indicator\n",
      "BOD                     Biochemical Oxygen Demand\n",
      "CO2                     Carbon Dioxide Uptake in Grass Plants\n",
      "ChickWeight             Weight versus age of chicks on different diets\n",
      "DNase                   Elisa assay of DNase\n",
      "EuStockMarkets          Daily Closing Prices of Major European Stock\n",
      "                        Indices, 1991-1998\n",
      "Formaldehyde            Determination of Formaldehyde\n",
      "HairEyeColor            Hair and Eye Color of Statistics Students\n",
      "Harman23.cor            Harman Example 2.3\n",
      "Harman74.cor            Harman Example 7.4\n",
      "Indometh                Pharmacokinetics of Indomethacin\n",
      "InsectSprays            Effectiveness of Insect Sprays\n",
      "JohnsonJohnson          Quarterly Earnings per Johnson & Johnson Share\n",
      "LakeHuron               Level of Lake Huron 1875-1972\n",
      "LifeCycleSavings        Intercountry Life-Cycle Savings Data\n",
      "Loblolly                Growth of Loblolly pine trees\n",
      "Nile                    Flow of the River Nile\n",
      "Orange                  Growth of Orange Trees\n",
      "OrchardSprays           Potency of Orchard Sprays\n",
      "PlantGrowth             Results from an Experiment on Plant Growth\n",
      "Puromycin               Reaction Velocity of an Enzymatic Reaction\n",
      "Seatbelts               Road Casualties in Great Britain 1969-84\n",
      "Theoph                  Pharmacokinetics of Theophylline\n",
      "Titanic                 Survival of passengers on the Titanic\n",
      "ToothGrowth             The Effect of Vitamin C on Tooth Growth in\n",
      "                        Guinea Pigs\n",
      "UCBAdmissions           Student Admissions at UC Berkeley\n",
      "UKDriverDeaths          Road Casualties in Great Britain 1969-84\n",
      "UKgas                   UK Quarterly Gas Consumption\n",
      "USAccDeaths             Accidental Deaths in the US 1973-1978\n",
      "USArrests               Violent Crime Rates by US State\n",
      "USJudgeRatings          Lawyers' Ratings of State Judges in the US\n",
      "                        Superior Court\n",
      "USPersonalExpenditure   Personal Expenditure Data\n",
      "UScitiesD               Distances Between European Cities and Between\n",
      "                        US Cities\n",
      "VADeaths                Death Rates in Virginia (1940)\n",
      "WWWusage                Internet Usage per Minute\n",
      "WorldPhones             The World's Telephones\n",
      "ability.cov             Ability and Intelligence Tests\n",
      "airmiles                Passenger Miles on Commercial US Airlines,\n",
      "                        1937-1960\n",
      "airquality              New York Air Quality Measurements\n",
      "anscombe                Anscombe's Quartet of 'Identical' Simple Linear\n",
      "                        Regressions\n",
      "attenu                  The Joyner-Boore Attenuation Data\n",
      "attitude                The Chatterjee-Price Attitude Data\n",
      "austres                 Quarterly Time Series of the Number of\n",
      "                        Australian Residents\n",
      "beaver1 (beavers)       Body Temperature Series of Two Beavers\n",
      "beaver2 (beavers)       Body Temperature Series of Two Beavers\n",
      "cars                    Speed and Stopping Distances of Cars\n",
      "chickwts                Chicken Weights by Feed Type\n",
      "co2                     Mauna Loa Atmospheric CO2 Concentration\n",
      "crimtab                 Student's 3000 Criminals Data\n",
      "discoveries             Yearly Numbers of Important Discoveries\n",
      "esoph                   Smoking, Alcohol and (O)esophageal Cancer\n",
      "euro                    Conversion Rates of Euro Currencies\n",
      "euro.cross (euro)       Conversion Rates of Euro Currencies\n",
      "eurodist                Distances Between European Cities and Between\n",
      "                        US Cities\n",
      "faithful                Old Faithful Geyser Data\n",
      "fdeaths (UKLungDeaths)\n",
      "                        Monthly Deaths from Lung Diseases in the UK\n",
      "freeny                  Freeny's Revenue Data\n",
      "freeny.x (freeny)       Freeny's Revenue Data\n",
      "freeny.y (freeny)       Freeny's Revenue Data\n",
      "infert                  Infertility after Spontaneous and Induced\n",
      "                        Abortion\n",
      "iris                    Edgar Anderson's Iris Data\n",
      "iris3                   Edgar Anderson's Iris Data\n",
      "islands                 Areas of the World's Major Landmasses\n",
      "ldeaths (UKLungDeaths)\n",
      "                        Monthly Deaths from Lung Diseases in the UK\n",
      "lh                      Luteinizing Hormone in Blood Samples\n",
      "longley                 Longley's Economic Regression Data\n",
      "lynx                    Annual Canadian Lynx trappings 1821-1934\n",
      "mdeaths (UKLungDeaths)\n",
      "                        Monthly Deaths from Lung Diseases in the UK\n",
      "morley                  Michelson Speed of Light Data\n",
      "mtcars                  Motor Trend Car Road Tests\n",
      "nhtemp                  Average Yearly Temperatures in New Haven\n",
      "nottem                  Average Monthly Temperatures at Nottingham,\n",
      "                        1920-1939\n",
      "npk                     Classical N, P, K Factorial Experiment\n",
      "occupationalStatus      Occupational Status of Fathers and their Sons\n",
      "precip                  Annual Precipitation in US Cities\n",
      "presidents              Quarterly Approval Ratings of US Presidents\n",
      "pressure                Vapor Pressure of Mercury as a Function of\n",
      "                        Temperature\n",
      "quakes                  Locations of Earthquakes off Fiji\n",
      "randu                   Random Numbers from Congruential Generator\n",
      "                        RANDU\n",
      "rivers                  Lengths of Major North American Rivers\n",
      "rock                    Measurements on Petroleum Rock Samples\n",
      "sleep                   Student's Sleep Data\n",
      "stack.loss (stackloss)\n",
      "                        Brownlee's Stack Loss Plant Data\n",
      "stack.x (stackloss)     Brownlee's Stack Loss Plant Data\n",
      "stackloss               Brownlee's Stack Loss Plant Data\n",
      "state.abb (state)       US State Facts and Figures\n",
      "state.area (state)      US State Facts and Figures\n",
      "state.center (state)    US State Facts and Figures\n",
      "state.division (state)\n",
      "                        US State Facts and Figures\n",
      "state.name (state)      US State Facts and Figures\n",
      "state.region (state)    US State Facts and Figures\n",
      "state.x77 (state)       US State Facts and Figures\n",
      "sunspot.month           Monthly Sunspot Data, from 1749 to \"Present\"\n",
      "sunspot.year            Yearly Sunspot Data, 1700-1988\n",
      "sunspots                Monthly Sunspot Numbers, 1749-1983\n",
      "swiss                   Swiss Fertility and Socioeconomic Indicators\n",
      "                        (1888) Data\n",
      "treering                Yearly Treering Data, -6000-1979\n",
      "trees                   Diameter, Height and Volume for Black Cherry\n",
      "                        Trees\n",
      "uspop                   Populations Recorded by the US Census\n",
      "volcano                 Topographic Information on Auckland's Maunga\n",
      "                        Whau Volcano\n",
      "warpbreaks              The Number of Breaks in Yarn during Weaving\n",
      "women                   Average Heights and Weights for American Women\n",
      "Data sets in package 'ISLR':\n",
      "\n",
      "Auto                    Auto Data Set\n",
      "Caravan                 The Insurance Company (TIC) Benchmark\n",
      "Carseats                Sales of Child Car Seats\n",
      "College                 U.S. News and World Report's College Data\n",
      "Credit                  Credit Card Balance Data\n",
      "Default                 Credit Card Default Data\n",
      "Hitters                 Baseball Data\n",
      "Khan                    Khan Gene Data\n",
      "NCI60                   NCI 60 Data\n",
      "OJ                      Orange Juice Data\n",
      "Portfolio               Portfolio Data\n",
      "Smarket                 S&P Stock Market Data\n",
      "Wage                    Mid-Atlantic Wage Data\n",
      "Weekly                  Weekly S&P Stock Market Data\n",
      "Data sets in package 'MASS':\n",
      "\n",
      "Aids2                   Australian AIDS Survival Data\n",
      "Animals                 Brain and Body Weights for 28 Species\n",
      "Boston                  Housing Values in Suburbs of Boston\n",
      "Cars93                  Data from 93 Cars on Sale in the USA in 1993\n",
      "Cushings                Diagnostic Tests on Patients with Cushing's\n",
      "                        Syndrome\n",
      "DDT                     DDT in Kale\n",
      "GAGurine                Level of GAG in Urine of Children\n",
      "Insurance               Numbers of Car Insurance claims\n",
      "Melanoma                Survival from Malignant Melanoma\n",
      "OME                     Tests of Auditory Perception in Children with\n",
      "                        OME\n",
      "Pima.te                 Diabetes in Pima Indian Women\n",
      "Pima.tr                 Diabetes in Pima Indian Women\n",
      "Pima.tr2                Diabetes in Pima Indian Women\n",
      "Rabbit                  Blood Pressure in Rabbits\n",
      "Rubber                  Accelerated Testing of Tyre Rubber\n",
      "SP500                   Returns of the Standard and Poors 500\n",
      "Sitka                   Growth Curves for Sitka Spruce Trees in 1988\n",
      "Sitka89                 Growth Curves for Sitka Spruce Trees in 1989\n",
      "Skye                    AFM Compositions of Aphyric Skye Lavas\n",
      "Traffic                 Effect of Swedish Speed Limits on Accidents\n",
      "UScereal                Nutritional and Marketing Information on US\n",
      "                        Cereals\n",
      "UScrime                 The Effect of Punishment Regimes on Crime Rates\n",
      "VA                      Veteran's Administration Lung Cancer Trial\n",
      "abbey                   Determinations of Nickel Content\n",
      "accdeaths               Accidental Deaths in the US 1973-1978\n",
      "anorexia                Anorexia Data on Weight Change\n",
      "bacteria                Presence of Bacteria after Drug Treatments\n",
      "beav1                   Body Temperature Series of Beaver 1\n",
      "beav2                   Body Temperature Series of Beaver 2\n",
      "biopsy                  Biopsy Data on Breast Cancer Patients\n",
      "birthwt                 Risk Factors Associated with Low Infant Birth\n",
      "                        Weight\n",
      "cabbages                Data from a cabbage field trial\n",
      "caith                   Colours of Eyes and Hair of People in Caithness\n",
      "cats                    Anatomical Data from Domestic Cats\n",
      "cement                  Heat Evolved by Setting Cements\n",
      "chem                    Copper in Wholemeal Flour\n",
      "coop                    Co-operative Trial in Analytical Chemistry\n",
      "cpus                    Performance of Computer CPUs\n",
      "crabs                   Morphological Measurements on Leptograpsus\n",
      "                        Crabs\n",
      "deaths                  Monthly Deaths from Lung Diseases in the UK\n",
      "drivers                 Deaths of Car Drivers in Great Britain 1969-84\n",
      "eagles                  Foraging Ecology of Bald Eagles\n",
      "epil                    Seizure Counts for Epileptics\n",
      "farms                   Ecological Factors in Farm Management\n",
      "fgl                     Measurements of Forensic Glass Fragments\n",
      "forbes                  Forbes' Data on Boiling Points in the Alps\n",
      "galaxies                Velocities for 82 Galaxies\n",
      "gehan                   Remission Times of Leukaemia Patients\n",
      "genotype                Rat Genotype Data\n",
      "geyser                  Old Faithful Geyser Data\n",
      "gilgais                 Line Transect of Soil in Gilgai Territory\n",
      "hills                   Record Times in Scottish Hill Races\n",
      "housing                 Frequency Table from a Copenhagen Housing\n",
      "                        Conditions Survey\n",
      "immer                   Yields from a Barley Field Trial\n",
      "leuk                    Survival Times and White Blood Counts for\n",
      "                        Leukaemia Patients\n",
      "mammals                 Brain and Body Weights for 62 Species of Land\n",
      "                        Mammals\n",
      "mcycle                  Data from a Simulated Motorcycle Accident\n",
      "menarche                Age of Menarche in Warsaw\n",
      "michelson               Michelson's Speed of Light Data\n",
      "minn38                  Minnesota High School Graduates of 1938\n",
      "motors                  Accelerated Life Testing of Motorettes\n",
      "muscle                  Effect of Calcium Chloride on Muscle\n",
      "                        Contraction in Rat Hearts\n",
      "newcomb                 Newcomb's Measurements of the Passage Time of\n",
      "                        Light\n",
      "nlschools               Eighth-Grade Pupils in the Netherlands\n",
      "npk                     Classical N, P, K Factorial Experiment\n",
      "npr1                    US Naval Petroleum Reserve No. 1 data\n",
      "oats                    Data from an Oats Field Trial\n",
      "painters                The Painter's Data of de Piles\n",
      "petrol                  N. L. Prater's Petrol Refinery Data\n",
      "phones                  Belgium Phone Calls 1950-1973\n",
      "quine                   Absenteeism from School in Rural New South\n",
      "                        Wales\n",
      "road                    Road Accident Deaths in US States\n",
      "rotifer                 Numbers of Rotifers by Fluid Density\n",
      "ships                   Ships Damage Data\n",
      "shoes                   Shoe wear data of Box, Hunter and Hunter\n",
      "shrimp                  Percentage of Shrimp in Shrimp Cocktail\n",
      "shuttle                 Space Shuttle Autolander Problem\n",
      "snails                  Snail Mortality Data\n",
      "steam                   The Saturated Steam Pressure Data\n",
      "stormer                 The Stormer Viscometer Data\n",
      "survey                  Student Survey Data\n",
      "synth.te                Synthetic Classification Problem\n",
      "synth.tr                Synthetic Classification Problem\n",
      "topo                    Spatial Topographic Data\n",
      "waders                  Counts of Waders at 15 Sites in South Africa\n",
      "whiteside               House Insulation: Whiteside's Data\n",
      "wtloss                  Weight Loss Data from an Obese Patient\n",
      "\n",
      "Use 'data(package = .packages(all.available = TRUE))'\n",
      "to list the data sets in all *available* packages."
     ]
    }
   ],
   "source": [
    "data()"
   ]
  },
  {
   "cell_type": "code",
   "execution_count": 17,
   "metadata": {
    "vscode": {
     "languageId": "r"
    }
   },
   "outputs": [],
   "source": [
    "data(\"Carseats\")"
   ]
  },
  {
   "cell_type": "code",
   "execution_count": 18,
   "metadata": {
    "vscode": {
     "languageId": "r"
    }
   },
   "outputs": [],
   "source": [
    "dataset=data(\"Carseats\")"
   ]
  },
  {
   "cell_type": "code",
   "execution_count": 26,
   "metadata": {
    "vscode": {
     "languageId": "r"
    }
   },
   "outputs": [],
   "source": [
    "dataset=Carseats"
   ]
  },
  {
   "cell_type": "code",
   "execution_count": 27,
   "metadata": {
    "vscode": {
     "languageId": "r"
    }
   },
   "outputs": [
    {
     "name": "stdout",
     "output_type": "stream",
     "text": [
      "Carseats                 package:ISLR                  R Documentation\n",
      "\n",
      "_\bS_\ba_\bl_\be_\bs _\bo_\bf _\bC_\bh_\bi_\bl_\bd _\bC_\ba_\br _\bS_\be_\ba_\bt_\bs\n",
      "\n",
      "_\bD_\be_\bs_\bc_\br_\bi_\bp_\bt_\bi_\bo_\bn:\n",
      "\n",
      "     A simulated data set containing sales of child car seats at 400\n",
      "     different stores.\n",
      "\n",
      "_\bU_\bs_\ba_\bg_\be:\n",
      "\n",
      "     Carseats\n",
      "     \n",
      "_\bF_\bo_\br_\bm_\ba_\bt:\n",
      "\n",
      "     A data frame with 400 observations on the following 11 variables.\n",
      "\n",
      "     'Sales' Unit sales (in thousands) at each location\n",
      "\n",
      "     'CompPrice' Price charged by competitor at each location\n",
      "\n",
      "     'Income' Community income level (in thousands of dollars)\n",
      "\n",
      "     'Advertising' Local advertising budget for company at each\n",
      "          location (in thousands of dollars)\n",
      "\n",
      "     'Population' Population size in region (in thousands)\n",
      "\n",
      "     'Price' Price company charges for car seats at each site\n",
      "\n",
      "     'ShelveLoc' A factor with levels 'Bad', 'Good' and 'Medium'\n",
      "          indicating the quality of the shelving location for the car\n",
      "          seats at each site\n",
      "\n",
      "     'Age' Average age of the local population\n",
      "\n",
      "     'Education' Education level at each location\n",
      "\n",
      "     'Urban' A factor with levels 'No' and 'Yes' to indicate whether\n",
      "          the store is in an urban or rural location\n",
      "\n",
      "     'US' A factor with levels 'No' and 'Yes' to indicate whether the\n",
      "          store is in the US or not\n",
      "\n",
      "_\bS_\bo_\bu_\br_\bc_\be:\n",
      "\n",
      "     Simulated data\n",
      "\n",
      "_\bR_\be_\bf_\be_\br_\be_\bn_\bc_\be_\bs:\n",
      "\n",
      "     James, G., Witten, D., Hastie, T., and Tibshirani, R. (2013) _An\n",
      "     Introduction to Statistical Learning with applications in R_,\n",
      "     <https://www.statlearning.com>, Springer-Verlag, New York\n",
      "\n",
      "_\bE_\bx_\ba_\bm_\bp_\bl_\be_\bs:\n",
      "\n",
      "     summary(Carseats)\n",
      "     lm.fit=lm(Sales~Advertising+Price,data=Carseats)\n",
      "     "
     ]
    }
   ],
   "source": [
    "?Carseats"
   ]
  },
  {
   "cell_type": "code",
   "execution_count": 28,
   "metadata": {
    "vscode": {
     "languageId": "r"
    }
   },
   "outputs": [],
   "source": [
    "# install.packages(\"caTools\")\n",
    "\n",
    "library(\"caTools\")"
   ]
  },
  {
   "cell_type": "code",
   "execution_count": 29,
   "metadata": {
    "vscode": {
     "languageId": "r"
    }
   },
   "outputs": [
    {
     "name": "stdout",
     "output_type": "stream",
     "text": [
      "'data.frame':\t400 obs. of  11 variables:\n",
      " $ Sales      : num  9.5 11.22 10.06 7.4 4.15 ...\n",
      " $ CompPrice  : num  138 111 113 117 141 124 115 136 132 132 ...\n",
      " $ Income     : num  73 48 35 100 64 113 105 81 110 113 ...\n",
      " $ Advertising: num  11 16 10 4 3 13 0 15 0 0 ...\n",
      " $ Population : num  276 260 269 466 340 501 45 425 108 131 ...\n",
      " $ Price      : num  120 83 80 97 128 72 108 120 124 124 ...\n",
      " $ ShelveLoc  : Factor w/ 3 levels \"Bad\",\"Good\",\"Medium\": 1 2 3 3 1 1 3 2 3 3 ...\n",
      " $ Age        : num  42 65 59 55 38 78 71 67 76 76 ...\n",
      " $ Education  : num  17 10 12 14 13 16 15 10 10 17 ...\n",
      " $ Urban      : Factor w/ 2 levels \"No\",\"Yes\": 2 2 2 2 2 1 2 2 1 1 ...\n",
      " $ US         : Factor w/ 2 levels \"No\",\"Yes\": 2 2 2 2 1 2 1 2 1 2 ...\n"
     ]
    }
   ],
   "source": [
    "str(dataset)"
   ]
  },
  {
   "cell_type": "code",
   "execution_count": 30,
   "metadata": {
    "vscode": {
     "languageId": "r"
    }
   },
   "outputs": [],
   "source": [
    "split=sample.split(dataset$Sales,SplitRatio = 0.75)"
   ]
  },
  {
   "cell_type": "code",
   "execution_count": 31,
   "metadata": {
    "vscode": {
     "languageId": "r"
    }
   },
   "outputs": [],
   "source": [
    "training_set=subset(dataset,split==TRUE)"
   ]
  },
  {
   "cell_type": "code",
   "execution_count": 32,
   "metadata": {
    "vscode": {
     "languageId": "r"
    }
   },
   "outputs": [],
   "source": [
    "testing_set=subset(dataset,split==FALSE)"
   ]
  },
  {
   "cell_type": "markdown",
   "metadata": {},
   "source": [
    "# Regression Model"
   ]
  },
  {
   "cell_type": "code",
   "execution_count": 33,
   "metadata": {
    "vscode": {
     "languageId": "r"
    }
   },
   "outputs": [
    {
     "name": "stderr",
     "output_type": "stream",
     "text": [
      "Installing package into 'C:/Users/haric/AppData/Local/R/win-library/4.3'\n",
      "(as 'lib' is unspecified)\n",
      "\n"
     ]
    },
    {
     "name": "stdout",
     "output_type": "stream",
     "text": [
      "package 'rpart' successfully unpacked and MD5 sums checked\n"
     ]
    },
    {
     "name": "stderr",
     "output_type": "stream",
     "text": [
      "Warning message:\n",
      "\"cannot remove prior installation of package 'rpart'\"\n",
      "Warning message in file.copy(savedcopy, lib, recursive = TRUE):\n",
      "\"problem copying C:\\Users\\haric\\AppData\\Local\\R\\win-library\\4.3\\00LOCK\\rpart\\libs\\x64\\rpart.dll to C:\\Users\\haric\\AppData\\Local\\R\\win-library\\4.3\\rpart\\libs\\x64\\rpart.dll: Permission denied\"\n",
      "Warning message:\n",
      "\"restored 'rpart'\"\n"
     ]
    },
    {
     "name": "stdout",
     "output_type": "stream",
     "text": [
      "\n",
      "The downloaded binary packages are in\n",
      "\tC:\\Users\\haric\\AppData\\Local\\Temp\\Rtmp0oVzli\\downloaded_packages\n"
     ]
    }
   ],
   "source": [
    "#install.packages(\"rpart\")\n",
    "library(\"rpart\")"
   ]
  },
  {
   "cell_type": "code",
   "execution_count": 34,
   "metadata": {
    "vscode": {
     "languageId": "r"
    }
   },
   "outputs": [],
   "source": [
    "regressor=rpart(Sales~.,data = training_set)"
   ]
  },
  {
   "cell_type": "code",
   "execution_count": 39,
   "metadata": {
    "vscode": {
     "languageId": "r"
    }
   },
   "outputs": [
    {
     "data": {
      "image/png": "[encoded data removed]",
      "text/plain": [
       "plot without title"
      ]
     },
     "metadata": {
      "image/png": {
       "height": 420,
       "width": 420
      }
     },
     "output_type": "display_data"
    }
   ],
   "source": [
    "plot(regressor)\n",
    "text(regressor,cex = 0.9)"
   ]
  },
  {
   "cell_type": "markdown",
   "metadata": {},
   "source": [
    "# prediction"
   ]
  },
  {
   "cell_type": "code",
   "execution_count": 40,
   "metadata": {
    "vscode": {
     "languageId": "r"
    }
   },
   "outputs": [],
   "source": [
    "y_pred=predict(regressor,newdata = testing_set)"
   ]
  },
  {
   "cell_type": "code",
   "execution_count": 42,
   "metadata": {
    "vscode": {
     "languageId": "r"
    }
   },
   "outputs": [
    {
     "data": {
      "text/html": [
       "<style>\n",
       ".dl-inline {width: auto; margin:0; padding: 0}\n",
       ".dl-inline>dt, .dl-inline>dd {float: none; width: auto; display: inline-block}\n",
       ".dl-inline>dt::after {content: \":\\0020\"; padding-right: .5ex}\n",
       ".dl-inline>dt:not(:first-of-type) {padding-left: .5ex}\n",
       "</style><dl class=dl-inline><dt>6</dt><dd>5.82529411764706</dd><dt>9</dt><dd>5.94613636363636</dd><dt>12</dt><dd>12.3105555555556</dd><dt>14</dt><dd>12.3105555555556</dd><dt>16</dt><dd>4.50590909090909</dd><dt>23</dt><dd>4.50590909090909</dd></dl>\n"
      ],
      "text/latex": [
       "\\begin{description*}\n",
       "\\item[6] 5.82529411764706\n",
       "\\item[9] 5.94613636363636\n",
       "\\item[12] 12.3105555555556\n",
       "\\item[14] 12.3105555555556\n",
       "\\item[16] 4.50590909090909\n",
       "\\item[23] 4.50590909090909\n",
       "\\end{description*}\n"
      ],
      "text/markdown": [
       "6\n",
       ":   5.825294117647069\n",
       ":   5.9461363636363612\n",
       ":   12.310555555555614\n",
       ":   12.310555555555616\n",
       ":   4.5059090909090923\n",
       ":   4.50590909090909\n",
       "\n"
      ],
      "text/plain": [
       "        6         9        12        14        16        23 \n",
       " 5.825294  5.946136 12.310556 12.310556  4.505909  4.505909 "
      ]
     },
     "metadata": {},
     "output_type": "display_data"
    }
   ],
   "source": [
    "head(y_pred)"
   ]
  },
  {
   "cell_type": "code",
   "execution_count": 45,
   "metadata": {
    "vscode": {
     "languageId": "r"
    }
   },
   "outputs": [
    {
     "data": {
      "text/html": [
       "5.39021154585862"
      ],
      "text/latex": [
       "5.39021154585862"
      ],
      "text/markdown": [
       "5.39021154585862"
      ],
      "text/plain": [
       "[1] 5.390212"
      ]
     },
     "metadata": {},
     "output_type": "display_data"
    }
   ],
   "source": [
    "#MSE\n",
    "\n",
    "mean((testing_set$Sales-y_pred)^2)"
   ]
  },
  {
   "cell_type": "code",
   "execution_count": 46,
   "metadata": {
    "vscode": {
     "languageId": "r"
    }
   },
   "outputs": [
    {
     "data": {
      "text/html": [
       "2.32168291242767"
      ],
      "text/latex": [
       "2.32168291242767"
      ],
      "text/markdown": [
       "2.32168291242767"
      ],
      "text/plain": [
       "[1] 2.321683"
      ]
     },
     "metadata": {},
     "output_type": "display_data"
    }
   ],
   "source": [
    "#RMSE\n",
    "sqrt(mean((testing_set$Sales-y_pred)^2))"
   ]
  },
  {
   "cell_type": "code",
   "execution_count": 47,
   "metadata": {
    "vscode": {
     "languageId": "r"
    }
   },
   "outputs": [
    {
     "data": {
      "text/plain": [
       "   Min. 1st Qu.  Median    Mean 3rd Qu.    Max. \n",
       "  2.070   5.830   7.685   7.712   9.095  15.630 "
      ]
     },
     "metadata": {},
     "output_type": "display_data"
    }
   ],
   "source": [
    "summary(testing_set$Sales)"
   ]
  },
  {
   "cell_type": "code",
   "execution_count": 48,
   "metadata": {
    "vscode": {
     "languageId": "r"
    }
   },
   "outputs": [
    {
     "name": "stderr",
     "output_type": "stream",
     "text": [
      "Installing package into 'C:/Users/haric/AppData/Local/R/win-library/4.3'\n",
      "(as 'lib' is unspecified)\n",
      "\n"
     ]
    },
    {
     "name": "stdout",
     "output_type": "stream",
     "text": [
      "package 'Metrics' successfully unpacked and MD5 sums checked\n",
      "\n",
      "The downloaded binary packages are in\n",
      "\tC:\\Users\\haric\\AppData\\Local\\Temp\\Rtmp0oVzli\\downloaded_packages\n"
     ]
    }
   ],
   "source": [
    "#install.packages('Metrics')\n",
    "library(\"Metrics\")"
   ]
  },
  {
   "cell_type": "code",
   "execution_count": 49,
   "metadata": {
    "vscode": {
     "languageId": "r"
    }
   },
   "outputs": [
    {
     "data": {
      "text/html": [
       "2.32168291242767"
      ],
      "text/latex": [
       "2.32168291242767"
      ],
      "text/markdown": [
       "2.32168291242767"
      ],
      "text/plain": [
       "[1] 2.321683"
      ]
     },
     "metadata": {},
     "output_type": "display_data"
    }
   ],
   "source": [
    "rmse(testing_set$Sales,y_pred)"
   ]
  },
  {
   "cell_type": "markdown",
   "metadata": {},
   "source": [
    "# plot "
   ]
  },
  {
   "cell_type": "code",
   "execution_count": 52,
   "metadata": {
    "vscode": {
     "languageId": "r"
    }
   },
   "outputs": [
    {
     "data": {
      "image/png": "[encoded data removed]",
      "text/plain": [
       "plot without title"
      ]
     },
     "metadata": {
      "image/png": {
       "height": 420,
       "width": 420
      }
     },
     "output_type": "display_data"
    }
   ],
   "source": [
    "plot(y_pred,testing_set$Sales)\n",
    "abline(0,1)"
   ]
  },
  {
   "cell_type": "code",
   "execution_count": 54,
   "metadata": {
    "vscode": {
     "languageId": "r"
    }
   },
   "outputs": [],
   "source": [
    "#tree package\n",
    "\n",
    "#install.packages(\"tree\")\n",
    "\n",
    "library(\"tree\")"
   ]
  },
  {
   "cell_type": "code",
   "execution_count": 55,
   "metadata": {
    "vscode": {
     "languageId": "r"
    }
   },
   "outputs": [],
   "source": [
    "treeregressor=tree(Sales~.,data=training_set)"
   ]
  },
  {
   "cell_type": "code",
   "execution_count": 56,
   "metadata": {
    "vscode": {
     "languageId": "r"
    }
   },
   "outputs": [
    {
     "data": {
      "image/png": "[encoded data removed]",
      "text/plain": [
       "plot without title"
      ]
     },
     "metadata": {
      "image/png": {
       "height": 420,
       "width": 420
      }
     },
     "output_type": "display_data"
    }
   ],
   "source": [
    "plot(treeregressor)\n",
    "text(treeregressor)"
   ]
  },
  {
   "cell_type": "code",
   "execution_count": 57,
   "metadata": {
    "vscode": {
     "languageId": "r"
    }
   },
   "outputs": [],
   "source": [
    "Y_preditiontree=predict(treeregressor,newdata = testing_set)"
   ]
  },
  {
   "cell_type": "code",
   "execution_count": 58,
   "metadata": {
    "vscode": {
     "languageId": "r"
    }
   },
   "outputs": [
    {
     "data": {
      "text/html": [
       "<style>\n",
       ".dl-inline {width: auto; margin:0; padding: 0}\n",
       ".dl-inline>dt, .dl-inline>dd {float: none; width: auto; display: inline-block}\n",
       ".dl-inline>dt::after {content: \":\\0020\"; padding-right: .5ex}\n",
       ".dl-inline>dt:not(:first-of-type) {padding-left: .5ex}\n",
       "</style><dl class=dl-inline><dt>6</dt><dd>5.82529411764706</dd><dt>9</dt><dd>5.94613636363636</dd><dt>12</dt><dd>12.3105555555556</dd><dt>14</dt><dd>12.3105555555556</dd><dt>16</dt><dd>4.50590909090909</dd><dt>23</dt><dd>4.50590909090909</dd></dl>\n"
      ],
      "text/latex": [
       "\\begin{description*}\n",
       "\\item[6] 5.82529411764706\n",
       "\\item[9] 5.94613636363636\n",
       "\\item[12] 12.3105555555556\n",
       "\\item[14] 12.3105555555556\n",
       "\\item[16] 4.50590909090909\n",
       "\\item[23] 4.50590909090909\n",
       "\\end{description*}\n"
      ],
      "text/markdown": [
       "6\n",
       ":   5.825294117647069\n",
       ":   5.9461363636363612\n",
       ":   12.310555555555614\n",
       ":   12.310555555555616\n",
       ":   4.5059090909090923\n",
       ":   4.50590909090909\n",
       "\n"
      ],
      "text/plain": [
       "        6         9        12        14        16        23 \n",
       " 5.825294  5.946136 12.310556 12.310556  4.505909  4.505909 "
      ]
     },
     "metadata": {},
     "output_type": "display_data"
    }
   ],
   "source": [
    "head(Y_preditiontree)"
   ]
  },
  {
   "cell_type": "code",
   "execution_count": 59,
   "metadata": {
    "vscode": {
     "languageId": "r"
    }
   },
   "outputs": [
    {
     "data": {
      "text/html": [
       "2.29997171227221"
      ],
      "text/latex": [
       "2.29997171227221"
      ],
      "text/markdown": [
       "2.29997171227221"
      ],
      "text/plain": [
       "[1] 2.299972"
      ]
     },
     "metadata": {},
     "output_type": "display_data"
    }
   ],
   "source": [
    "rmse(testing_set$Sales,Y_preditiontree)"
   ]
  },
  {
   "cell_type": "code",
   "execution_count": 60,
   "metadata": {
    "vscode": {
     "languageId": "r"
    }
   },
   "outputs": [
    {
     "data": {
      "image/png": "[encoded data removed]",
      "text/plain": [
       "plot without title"
      ]
     },
     "metadata": {
      "image/png": {
       "height": 420,
       "width": 420
      }
     },
     "output_type": "display_data"
    }
   ],
   "source": [
    "plot(Y_preditiontree,testing_set$Sales)\n",
    "abline(0,1)"
   ]
  }
 ],
 "metadata": {
  "kernelspec": {
   "display_name": "R",
   "language": "R",
   "name": "ir"
  },
  "language_info": {
   "codemirror_mode": "r",
   "file_extension": ".r",
   "mimetype": "text/x-r-source",
   "name": "R",
   "pygments_lexer": "r",
   "version": "4.3.2"
  }
 },
 "nbformat": 4,
 "nbformat_minor": 2
}
